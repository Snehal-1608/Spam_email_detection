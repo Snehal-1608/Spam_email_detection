{
 "cells": [
  {
   "cell_type": "code",
   "execution_count": 1,
   "id": "2119948d",
   "metadata": {},
   "outputs": [
    {
     "name": "stderr",
     "output_type": "stream",
     "text": [
      "[nltk_data] Error loading stopwords: <urlopen error [Errno 11001]\n",
      "[nltk_data]     getaddrinfo failed>\n",
      "[nltk_data] Error loading punkt: <urlopen error [Errno 11001]\n",
      "[nltk_data]     getaddrinfo failed>\n",
      "[nltk_data] Error loading wordnet: <urlopen error [Errno 11001]\n",
      "[nltk_data]     getaddrinfo failed>\n"
     ]
    }
   ],
   "source": [
    "import pandas as pd\n",
    "import numpy as np\n",
    "import re\n",
    "import nltk\n",
    "from nltk.corpus import stopwords\n",
    "nltk.download(\"stopwords\")\n",
    "nltk.download(\"punkt\")\n",
    "nltk.download(\"wordnet\")\n",
    "import seaborn as sns\n",
    "import matplotlib.pyplot as plt\n"
   ]
  },
  {
   "cell_type": "code",
   "execution_count": 2,
   "id": "e0a34d7d",
   "metadata": {},
   "outputs": [],
   "source": [
    "df = pd.read_csv(\"email.csv\")"
   ]
  },
  {
   "cell_type": "code",
   "execution_count": 3,
   "id": "a4e4711b",
   "metadata": {},
   "outputs": [
    {
     "data": {
      "text/html": [
       "<div>\n",
       "<style scoped>\n",
       "    .dataframe tbody tr th:only-of-type {\n",
       "        vertical-align: middle;\n",
       "    }\n",
       "\n",
       "    .dataframe tbody tr th {\n",
       "        vertical-align: top;\n",
       "    }\n",
       "\n",
       "    .dataframe thead th {\n",
       "        text-align: right;\n",
       "    }\n",
       "</style>\n",
       "<table border=\"1\" class=\"dataframe\">\n",
       "  <thead>\n",
       "    <tr style=\"text-align: right;\">\n",
       "      <th></th>\n",
       "      <th>Category</th>\n",
       "      <th>Message</th>\n",
       "    </tr>\n",
       "  </thead>\n",
       "  <tbody>\n",
       "    <tr>\n",
       "      <th>0</th>\n",
       "      <td>ham</td>\n",
       "      <td>Go until jurong point, crazy.. Available only ...</td>\n",
       "    </tr>\n",
       "    <tr>\n",
       "      <th>1</th>\n",
       "      <td>ham</td>\n",
       "      <td>Ok lar... Joking wif u oni...</td>\n",
       "    </tr>\n",
       "    <tr>\n",
       "      <th>2</th>\n",
       "      <td>spam</td>\n",
       "      <td>Free entry in 2 a wkly comp to win FA Cup fina...</td>\n",
       "    </tr>\n",
       "    <tr>\n",
       "      <th>3</th>\n",
       "      <td>ham</td>\n",
       "      <td>U dun say so early hor... U c already then say...</td>\n",
       "    </tr>\n",
       "    <tr>\n",
       "      <th>4</th>\n",
       "      <td>ham</td>\n",
       "      <td>Nah I don't think he goes to usf, he lives aro...</td>\n",
       "    </tr>\n",
       "  </tbody>\n",
       "</table>\n",
       "</div>"
      ],
      "text/plain": [
       "  Category                                            Message\n",
       "0      ham  Go until jurong point, crazy.. Available only ...\n",
       "1      ham                      Ok lar... Joking wif u oni...\n",
       "2     spam  Free entry in 2 a wkly comp to win FA Cup fina...\n",
       "3      ham  U dun say so early hor... U c already then say...\n",
       "4      ham  Nah I don't think he goes to usf, he lives aro..."
      ]
     },
     "execution_count": 3,
     "metadata": {},
     "output_type": "execute_result"
    }
   ],
   "source": [
    "df.head()"
   ]
  },
  {
   "cell_type": "code",
   "execution_count": 4,
   "id": "b4c3de0e",
   "metadata": {},
   "outputs": [
    {
     "data": {
      "text/plain": [
       "['i', 'me', 'my', 'myself', 'we', 'our', 'ours', 'ourselves', 'you', \"you're\"]"
      ]
     },
     "execution_count": 4,
     "metadata": {},
     "output_type": "execute_result"
    }
   ],
   "source": [
    "total_stop_words = (\n",
    "    stopwords.words(\"english\")\n",
    "    + stopwords.words(\"spanish\")\n",
    "    + stopwords.words(\"french\")\n",
    "    + [\"ur\",\"im\",\"dont\",\"doin\",\"ure\",\"2\",\"4\",\"r\",\"u\",\"n\",\"lt\",\"gt\",\"amp\",\"ok\",\"pls\",\"v\",\"c\",\"n\",\"b\",\"wk\",\"th\",\"nd\",\"st\",\"rd\",\"th\",\"d\",\"e\",\"f\",\"g\",\"h\",\"i\",\"j\",\"k\",\"l\",\"m\",\"n\",\"o\",\"p\",\"q\",\"r\",\"s\",\"t\",\"u\",\"v\",\"w\",\"x\",\"y\",\"z\",\"ab\",\"ac\",\"ad\",\"ae\",\"af\",\"ag\",\"ah\",\"ai\",\"aj\",\"ak\",\"al\",\"am\",\"an\",\"ao\",\"ap\",\"aq\",\"ar\",\"as\",\"at\",\"au\",\"av\",\"aw\",\"ax\",\"ay\",\"az\",\"ba\",\"bb\",\"bc\",\"bd\",\"be\",\"bf\",\"bg\",\"bh\",\"bi\",\"bj\",\"bk\",\"bl\",\"bm\",\"bn\",\"bo\",\"bp\",\"bq\",\"br\",\"bs\",\"bt\",\"bu\",\"bv\",\"bw\",\"bx\",\"by\",\"bz\",\"ca\",\"cb\",\"cc\",\"cd\",\"ce\",\"cf\",\"cg\",\"ch\",\"ci\",\"cj\",\"ck\",\"cl\",\"cm\",\"cn\",\"co\",\"cp\",\"cq\",\"cr\",\"cs\",\"ct\",\"cu\",\"cv\",\"cw\",\"cx\",\"cy\",\"cz\",\"da\",\"db\",\"dc\",\"dd\",\"de\",\"df\",\"dg\",\"dh\",\"di\",\"dj\",\"dk\",\"dl\",\"dm\",\"dn\",\"do\",\"dp\",\"dq\",\"dr\",\"ds\",\"dt\",\"du\",\"dv\",\"dw\",\"dx\",\"dy\",\"dz\",\"ea\",\"eb\",\"ec\",\"ed\",\"ee\",\"ef\",\"eg\",\"eh\",\"ei\",\"ej\",\"ek\",\"el\",\"em\",\"en\",\"eo\",\"ep\",\"eq\",\"er\",\"es\",\"et\",\"eu\",\"ev\",\"ew\",\"ex\",\"ey\",\"ez\",\"fa\",\"fb\",\"fc\",\"fd\",\"fe\",\"ff\",\"fg\",\"fh\",\"fi\",\"fj\",\"fk\",\"fl\",\"fm\",\"fn\",\"fo\",\"fp\",\"fq\",\"fr\",\"fs\",\"ft\",\"fu\",\"fv\",\"fw\",\"fx\",\"fy\",\"fz\",\"ga\",\"gb\",\"gc\",\"gd\",\"ge\",\"gf\",\"gg\",\"gh\",\"gi\",\"gj\",\"gk\",\"gl\",\"gm\",\"gn\",\"go\",\"gp\",\"gq\",\"gr\",\"gs\",\"gt\",\"gu\",\"gv\",\"gw\",\"gx\",\"gy\",\"gz\",\"ha\",\"hb\",\"hc\",\"hd\",\"he\",\"hf\",\"hg\",\"hh\",\"hi\",\"hj\",\"hk\",\"hl\",\"hm\",\"hn\",\"ho\",\"hp\",\"hq\",\"hr\",\"hs\",\"ht\"]\n",
    ")\n",
    "total_stop_words[:10]"
   ]
  },
  {
   "cell_type": "code",
   "execution_count": 5,
   "id": "a24c9ead",
   "metadata": {},
   "outputs": [],
   "source": [
    "def clean_text(text):\n",
    "    text = re.sub(r'[^\\w\\s]','',text,re.UNICODE)\n",
    "    text = text.lower()\n",
    "    text = [word for word in text.split() if word not in total_stop_words]\n",
    "    text = \" \".join(text)\n",
    "    return text"
   ]
  },
  {
   "cell_type": "code",
   "execution_count": 6,
   "id": "16d2f8db",
   "metadata": {},
   "outputs": [],
   "source": [
    "df[\"Message\"] = df[\"Message\"].apply(clean_text)"
   ]
  },
  {
   "cell_type": "code",
   "execution_count": 7,
   "id": "180af32c",
   "metadata": {},
   "outputs": [
    {
     "data": {
      "text/html": [
       "<div>\n",
       "<style scoped>\n",
       "    .dataframe tbody tr th:only-of-type {\n",
       "        vertical-align: middle;\n",
       "    }\n",
       "\n",
       "    .dataframe tbody tr th {\n",
       "        vertical-align: top;\n",
       "    }\n",
       "\n",
       "    .dataframe thead th {\n",
       "        text-align: right;\n",
       "    }\n",
       "</style>\n",
       "<table border=\"1\" class=\"dataframe\">\n",
       "  <thead>\n",
       "    <tr style=\"text-align: right;\">\n",
       "      <th></th>\n",
       "      <th>Category</th>\n",
       "      <th>Message</th>\n",
       "    </tr>\n",
       "  </thead>\n",
       "  <tbody>\n",
       "    <tr>\n",
       "      <th>0</th>\n",
       "      <td>ham</td>\n",
       "      <td>jurong point crazy available bugis great world...</td>\n",
       "    </tr>\n",
       "    <tr>\n",
       "      <th>1</th>\n",
       "      <td>ham</td>\n",
       "      <td>lar joking wif oni</td>\n",
       "    </tr>\n",
       "    <tr>\n",
       "      <th>2</th>\n",
       "      <td>spam</td>\n",
       "      <td>free entry wkly comp win cup final tkts 21st m...</td>\n",
       "    </tr>\n",
       "    <tr>\n",
       "      <th>3</th>\n",
       "      <td>ham</td>\n",
       "      <td>dun say early hor already say</td>\n",
       "    </tr>\n",
       "    <tr>\n",
       "      <th>4</th>\n",
       "      <td>ham</td>\n",
       "      <td>nah think goes usf lives around though</td>\n",
       "    </tr>\n",
       "    <tr>\n",
       "      <th>...</th>\n",
       "      <td>...</td>\n",
       "      <td>...</td>\n",
       "    </tr>\n",
       "    <tr>\n",
       "      <th>5568</th>\n",
       "      <td>ham</td>\n",
       "      <td>ü going esplanade home</td>\n",
       "    </tr>\n",
       "    <tr>\n",
       "      <th>5569</th>\n",
       "      <td>ham</td>\n",
       "      <td>pity mood soany suggestions</td>\n",
       "    </tr>\n",
       "    <tr>\n",
       "      <th>5570</th>\n",
       "      <td>ham</td>\n",
       "      <td>guy bitching acted like id interested buying s...</td>\n",
       "    </tr>\n",
       "    <tr>\n",
       "      <th>5571</th>\n",
       "      <td>ham</td>\n",
       "      <td>rofl true name</td>\n",
       "    </tr>\n",
       "    <tr>\n",
       "      <th>5572</th>\n",
       "      <td>{\"mode\":\"full\"</td>\n",
       "      <td>isactivefalse</td>\n",
       "    </tr>\n",
       "  </tbody>\n",
       "</table>\n",
       "<p>5573 rows × 2 columns</p>\n",
       "</div>"
      ],
      "text/plain": [
       "            Category                                            Message\n",
       "0                ham  jurong point crazy available bugis great world...\n",
       "1                ham                                 lar joking wif oni\n",
       "2               spam  free entry wkly comp win cup final tkts 21st m...\n",
       "3                ham                      dun say early hor already say\n",
       "4                ham             nah think goes usf lives around though\n",
       "...              ...                                                ...\n",
       "5568             ham                             ü going esplanade home\n",
       "5569             ham                        pity mood soany suggestions\n",
       "5570             ham  guy bitching acted like id interested buying s...\n",
       "5571             ham                                     rofl true name\n",
       "5572  {\"mode\":\"full\"                                      isactivefalse\n",
       "\n",
       "[5573 rows x 2 columns]"
      ]
     },
     "execution_count": 7,
     "metadata": {},
     "output_type": "execute_result"
    }
   ],
   "source": [
    "df\n"
   ]
  },
  {
   "cell_type": "code",
   "execution_count": 8,
   "id": "c8bc40d6",
   "metadata": {},
   "outputs": [
    {
     "data": {
      "text/html": [
       "<div>\n",
       "<style scoped>\n",
       "    .dataframe tbody tr th:only-of-type {\n",
       "        vertical-align: middle;\n",
       "    }\n",
       "\n",
       "    .dataframe tbody tr th {\n",
       "        vertical-align: top;\n",
       "    }\n",
       "\n",
       "    .dataframe thead th {\n",
       "        text-align: right;\n",
       "    }\n",
       "</style>\n",
       "<table border=\"1\" class=\"dataframe\">\n",
       "  <thead>\n",
       "    <tr style=\"text-align: right;\">\n",
       "      <th></th>\n",
       "      <th>Category</th>\n",
       "      <th>Message</th>\n",
       "    </tr>\n",
       "  </thead>\n",
       "  <tbody>\n",
       "    <tr>\n",
       "      <th>count</th>\n",
       "      <td>5573</td>\n",
       "      <td>5573</td>\n",
       "    </tr>\n",
       "    <tr>\n",
       "      <th>unique</th>\n",
       "      <td>3</td>\n",
       "      <td>5097</td>\n",
       "    </tr>\n",
       "    <tr>\n",
       "      <th>top</th>\n",
       "      <td>ham</td>\n",
       "      <td></td>\n",
       "    </tr>\n",
       "    <tr>\n",
       "      <th>freq</th>\n",
       "      <td>4825</td>\n",
       "      <td>30</td>\n",
       "    </tr>\n",
       "  </tbody>\n",
       "</table>\n",
       "</div>"
      ],
      "text/plain": [
       "       Category Message\n",
       "count      5573    5573\n",
       "unique        3    5097\n",
       "top         ham        \n",
       "freq       4825      30"
      ]
     },
     "execution_count": 8,
     "metadata": {},
     "output_type": "execute_result"
    }
   ],
   "source": [
    "df.describe()"
   ]
  },
  {
   "cell_type": "code",
   "execution_count": 9,
   "id": "93549b06",
   "metadata": {},
   "outputs": [
    {
     "data": {
      "text/plain": [
       "<Axes: xlabel='Category', ylabel='count'>"
      ]
     },
     "execution_count": 9,
     "metadata": {},
     "output_type": "execute_result"
    },
    {
     "data": {
      "image/png": "[encoded data removed]",
      "text/plain": [
       "<Figure size 640x480 with 1 Axes>"
      ]
     },
     "metadata": {},
     "output_type": "display_data"
    }
   ],
   "source": [
    "sns.barplot(x=df[\"Category\"].value_counts().index, y=df[\"Category\"].value_counts())"
   ]
  },
  {
   "cell_type": "code",
   "execution_count": 10,
   "id": "875ea41e",
   "metadata": {},
   "outputs": [
    {
     "data": {
      "text/plain": [
       "Category\n",
       "ham               4825\n",
       "spam               747\n",
       "{\"mode\":\"full\"       1\n",
       "Name: count, dtype: int64"
      ]
     },
     "execution_count": 10,
     "metadata": {},
     "output_type": "execute_result"
    }
   ],
   "source": [
    "df[\"Category\"].value_counts()"
   ]
  },
  {
   "cell_type": "code",
   "execution_count": 11,
   "id": "5b763533",
   "metadata": {},
   "outputs": [
    {
     "data": {
      "text/plain": [
       "747"
      ]
     },
     "execution_count": 11,
     "metadata": {},
     "output_type": "execute_result"
    }
   ],
   "source": [
    "df[\"Category\"].value_counts()[1]"
   ]
  },
  {
   "cell_type": "code",
   "execution_count": 12,
   "id": "3e5efdd7",
   "metadata": {},
   "outputs": [
    {
     "data": {
      "text/plain": [
       "5573"
      ]
     },
     "execution_count": 12,
     "metadata": {},
     "output_type": "execute_result"
    }
   ],
   "source": [
    "df[\"Category\"].value_counts().sum()"
   ]
  },
  {
   "cell_type": "code",
   "execution_count": 13,
   "id": "727f9505",
   "metadata": {},
   "outputs": [
    {
     "name": "stdout",
     "output_type": "stream",
     "text": [
      "Percentage of spam is 13.40% Percentage of ham is 86.58%\n"
     ]
    }
   ],
   "source": [
    "Percentage_of_spam = (df[\"Category\"].value_counts()[1]/df[\"Category\"].value_counts().sum())*100\n",
    "Percentage_of_ham = (df[\"Category\"].value_counts()[0]/df[\"Category\"].value_counts().sum())*100\n",
    "print(f\"Percentage of spam is {Percentage_of_spam:0.2f}%\", f\"Percentage of ham is {Percentage_of_ham:0.2f}%\")"
   ]
  },
  {
   "cell_type": "code",
   "execution_count": 14,
   "id": "01663278",
   "metadata": {},
   "outputs": [
    {
     "name": "stdout",
     "output_type": "stream",
     "text": [
      "call 575\n",
      "get 386\n",
      "free 275\n",
      "ltgt 258\n",
      "know 257\n",
      "like 244\n",
      "ill 243\n",
      "got 239\n",
      "good 236\n",
      "come 229\n",
      "time 208\n",
      "day 203\n",
      "love 200\n",
      "want 193\n",
      "send 191\n",
      "text 188\n",
      "going 171\n",
      "one 171\n",
      "need 167\n",
      "txt 163\n"
     ]
    },
    {
     "data": {
      "text/plain": [
       "<Axes: xlabel='word', ylabel='freq'>"
      ]
     },
     "execution_count": 14,
     "metadata": {},
     "output_type": "execute_result"
    },
    {
     "data": {
      "image/png": "[encoded data removed]",
      "text/plain": [
       "<Figure size 1600x800 with 1 Axes>"
      ]
     },
     "metadata": {},
     "output_type": "display_data"
    }
   ],
   "source": [
    "from sklearn.feature_extraction.text import CountVectorizer\n",
    "def get_top_n_words(corpus, n=None):\n",
    "    vec = CountVectorizer().fit(corpus)\n",
    "    bag_of_words = vec.transform(corpus)\n",
    "    sum_words = bag_of_words.sum(axis=0)\n",
    "    words_freq = [(word, sum_words[0, idx]) for word, idx in vec.vocabulary_.items()]\n",
    "    words_freq = sorted(words_freq, key=lambda x: x[1], reverse=True)\n",
    "    return words_freq[:n]\n",
    "\n",
    "common_words = get_top_n_words(df['Message'], 20)\n",
    "for word, freq in common_words:\n",
    "    print(word, freq)\n",
    "# Plot the most common words\n",
    "top_words = pd.DataFrame(common_words, columns=[\"word\", \"freq\"])\n",
    "fix,ax = plt.subplots(figsize=(16,8))\n",
    "top_words[\"Category\"] = df[\"Category\"].astype(str)\n",
    "sns.barplot(x=\"word\", y=\"freq\", data=top_words, hue=\"Category\")"
   ]
  },
  {
   "cell_type": "code",
   "execution_count": 15,
   "id": "cfa3e2ca",
   "metadata": {},
   "outputs": [],
   "source": [
    "from sklearn.model_selection import train_test_split\n",
    "X = df[\"Message\"]\n",
    "y = df[\"Category\"]\n",
    "X_train, X_test, y_train, y_test = train_test_split(X, y, test_size=0.2, random_state=42)"
   ]
  },
  {
   "cell_type": "code",
   "execution_count": 16,
   "id": "4c161bba",
   "metadata": {},
   "outputs": [],
   "source": [
    "vectorizer = CountVectorizer()\n",
    "X_train = vectorizer.fit_transform(X_train)\n",
    "X_test = vectorizer.transform(X_test)"
   ]
  },
  {
   "cell_type": "code",
   "execution_count": 17,
   "id": "44adb7c7",
   "metadata": {},
   "outputs": [],
   "source": [
    "from sklearn.feature_extraction.text import TfidfTransformer\n",
    "tfidf_transformer = TfidfTransformer()\n",
    "X_train = tfidf_transformer.fit_transform(X_train)\n",
    "X_test = tfidf_transformer.transform(X_test)"
   ]
  },
  {
   "cell_type": "code",
   "execution_count": 18,
   "id": "bfc85ad1",
   "metadata": {},
   "outputs": [],
   "source": [
    "X_train = pd.DataFrame(X_train.toarray())\n",
    "X_test = pd.DataFrame(X_test.toarray())"
   ]
  },
  {
   "cell_type": "code",
   "execution_count": 19,
   "id": "8977c9d7",
   "metadata": {},
   "outputs": [
    {
     "name": "stdout",
     "output_type": "stream",
     "text": [
      "Logistic Regression Model Accuracy: 96.8%\n"
     ]
    }
   ],
   "source": [
    "from sklearn.linear_model import LogisticRegression\n",
    "logistic_model = LogisticRegression()\n",
    "logistic_model.fit(X_train, y_train)\n",
    "logistic_score = logistic_model.score(X_test, y_test)\n",
    "print(f\"Logistic Regression Model Accuracy: {logistic_score:0.1%}\")"
   ]
  },
  {
   "cell_type": "code",
   "execution_count": 20,
   "id": "8dfd729d",
   "metadata": {},
   "outputs": [
    {
     "name": "stdout",
     "output_type": "stream",
     "text": [
      "Support Vector Machine Model Accuracy: 97.8%\n"
     ]
    }
   ],
   "source": [
    "from sklearn.svm import SVC\n",
    "svm_model = SVC()\n",
    "svm_model.fit(X_train, y_train)\n",
    "svm_score = svm_model.score(X_test, y_test)\n",
    "print(f\"Support Vector Machine Model Accuracy: {svm_score:0.1%}\")\n"
   ]
  },
  {
   "cell_type": "code",
   "execution_count": 21,
   "id": "2d843c85",
   "metadata": {},
   "outputs": [],
   "source": [
    "logistic_predictions = logistic_model.predict(X_test)\n",
    "svm_predictions = svm_model.predict(X_test)\n",
    "\n",
    "\n",
    "# Confusion Matrix\n",
    "from sklearn.metrics import confusion_matrix\n",
    "logistic_confusion_matrix = confusion_matrix(y_test, logistic_predictions)\n",
    "svm_confusion_matrix = confusion_matrix(y_test, svm_predictions)"
   ]
  },
  {
   "cell_type": "code",
   "execution_count": 22,
   "id": "0a8055e2",
   "metadata": {},
   "outputs": [
    {
     "data": {
      "text/plain": [
       "Text(927.1928104575164, 0.5, 'Actual')"
      ]
     },
     "execution_count": 22,
     "metadata": {},
     "output_type": "execute_result"
    },
    {
     "data": {
      "image/png": "[encoded data removed]",
      "text/plain": [
       "<Figure size 2400x1200 with 4 Axes>"
      ]
     },
     "metadata": {},
     "output_type": "display_data"
    }
   ],
   "source": [
    "plt.figure(figsize=(24, 12))\n",
    "# Add axis\n",
    "\n",
    "\n",
    "plt.subplot(3, 3, 1)\n",
    "sns.heatmap(logistic_confusion_matrix, annot=True, fmt=\"d\", cmap=\"Blues\")\n",
    "plt.title(\"Logistic Regression Confusion Matrix\")\n",
    "plt.xlabel(\"Predicted\")\n",
    "plt.ylabel(\"Actual\")\n",
    "\n",
    "\n",
    "\n",
    "plt.subplot(3, 3, 2)\n",
    "sns.heatmap(svm_confusion_matrix, annot=True, fmt=\"d\", cmap=\"Blues\")\n",
    "plt.title(\"Support Vector Machine Confusion Matrix\")\n",
    "plt.xlabel(\"Predicted\")\n",
    "plt.ylabel(\"Actual\")\n",
    "\n"
   ]
  },
  {
   "cell_type": "code",
   "execution_count": 23,
   "id": "b0deae30",
   "metadata": {},
   "outputs": [
    {
     "name": "stdout",
     "output_type": "stream",
     "text": [
      "Congratulations! You have won a free ticket to the Bahamas. Text 'WIN' to 12345 to claim it.\n",
      "\n",
      "Logistic Regression Prediction: spam\n",
      "Support Vector Machine Prediction: spam\n",
      "\n",
      "Hello, how are you doing today?\n",
      "\n",
      "Logistic Regression Prediction: ham\n",
      "Support Vector Machine Prediction: ham\n"
     ]
    }
   ],
   "source": [
    "def predict_text(text):\n",
    "    text = clean_text(text)\n",
    "    text = vectorizer.transform([text])\n",
    "    text = tfidf_transformer.transform(text)\n",
    "    text = pd.DataFrame(text.toarray())\n",
    "    logistic_prediction = logistic_model.predict(text)\n",
    "    svm_prediction = svm_model.predict(text)\n",
    "    \n",
    "    return logistic_prediction[0], svm_prediction[0]\n",
    "\n",
    "# Example 1\n",
    "text = \"Congratulations! You have won a free ticket to the Bahamas. Text 'WIN' to 12345 to claim it.\\n\"\n",
    "print(text)\n",
    "logistic_prediction, svm_prediction = predict_text(text)\n",
    "print(f\"Logistic Regression Prediction: {logistic_prediction}\")\n",
    "print(f\"Support Vector Machine Prediction: {svm_prediction}\\n\")\n",
    "\n",
    "\n",
    "# Example 2\n",
    "text = \"Hello, how are you doing today?\\n\"\n",
    "print(text)\n",
    "logistic_prediction, svm_prediction = predict_text(text)\n",
    "print(f\"Logistic Regression Prediction: {logistic_prediction}\")\n",
    "print(f\"Support Vector Machine Prediction: {svm_prediction}\")"
   ]
  },
  {
   "cell_type": "code",
   "execution_count": 24,
   "id": "83f35e14",
   "metadata": {},
   "outputs": [],
   "source": [
    "import streamlit as st\n",
    "import pickle"
   ]
  },
  {
   "cell_type": "code",
   "execution_count": 31,
   "id": "268bfdca",
   "metadata": {},
   "outputs": [],
   "source": [
    "spam = open(\"classifier.pkl\",\"rb\")"
   ]
  },
  {
   "cell_type": "code",
   "execution_count": 33,
   "id": "289f9647",
   "metadata": {},
   "outputs": [],
   "source": [
    "vectorizer = open(\"vectorizer.pkl\",\"rb\")"
   ]
  },
  {
   "cell_type": "code",
   "execution_count": 32,
   "id": "52988254",
   "metadata": {},
   "outputs": [],
   "source": [
    "with open(\"vectorizer.pkl\",\"wb\") as files:\n",
    "    pickle.dump(df,files)"
   ]
  },
  {
   "cell_type": "code",
   "execution_count": null,
   "id": "514129e2",
   "metadata": {},
   "outputs": [],
   "source": []
  },
  {
   "cell_type": "code",
   "execution_count": null,
   "id": "2b96a0cc",
   "metadata": {},
   "outputs": [],
   "source": []
  },
  {
   "cell_type": "code",
   "execution_count": 41,
   "id": "41335a41",
   "metadata": {},
   "outputs": [],
   "source": [
    "def main(title=\"Text classification App\".upper()):\n",
    "    st.markdown(\"<h1 style='text-align': center; font-size: 25px; color: blue;'>{}</h1>\".format(title), unsafe_allow_html=True)\n",
    "    info = \" \"\n",
    "    \n",
    "    with st.expander(\"1. check if your text is a spam or not spam \"):\n",
    "        text_message = st.text_input(\"Please enter your message\")\n",
    "        if st.button(\"Predicdt\"):\n",
    "            prediction = spam_clif.predict(vectorizer.transform([text_message]))\n",
    "            \n",
    "            if(prediction[0] == 0):\n",
    "                info = \"NOT SPAM\"\n",
    "                \n",
    "            else:\n",
    "                info = \"SPAM\"\n",
    "            st.success(\"Prediction: {}\".format(info))\n",
    "\n",
    "\n",
    "    "
   ]
  },
  {
   "cell_type": "code",
   "execution_count": 42,
   "id": "ad093cb6",
   "metadata": {},
   "outputs": [
    {
     "name": "stderr",
     "output_type": "stream",
     "text": [
      "2024-07-06 13:30:56.628 \n",
      "  \u001b[33m\u001b[1mWarning:\u001b[0m to view this Streamlit app on a browser, run it with the following\n",
      "  command:\n",
      "\n",
      "    streamlit run C:\\Users\\admin\\anaconda3\\Lib\\site-packages\\ipykernel_launcher.py [ARGUMENTS]\n"
     ]
    }
   ],
   "source": [
    "if __name__==\"__main__\":\n",
    "    main()"
   ]
  },
  {
   "cell_type": "code",
   "execution_count": null,
   "id": "0e83bbd8",
   "metadata": {},
   "outputs": [],
   "source": []
  }
 ],
 "metadata": {
  "kernelspec": {
   "display_name": "Python 3 (ipykernel)",
   "language": "python",
   "name": "python3"
  },
  "language_info": {
   "codemirror_mode": {
    "name": "ipython",
    "version": 3
   },
   "file_extension": ".py",
   "mimetype": "text/x-python",
   "name": "python",
   "nbconvert_exporter": "python",
   "pygments_lexer": "ipython3",
   "version": "3.11.5"
  }
 },
 "nbformat": 4,
 "nbformat_minor": 5
}
